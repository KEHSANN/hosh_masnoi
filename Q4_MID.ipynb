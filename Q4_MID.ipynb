{
  "nbformat": 4,
  "nbformat_minor": 0,
  "metadata": {
    "colab": {
      "provenance": [],
      "authorship_tag": "ABX9TyMcGFFADb5qvNEene8mBGV7",
      "include_colab_link": true
    },
    "kernelspec": {
      "name": "python3",
      "display_name": "Python 3"
    },
    "language_info": {
      "name": "python"
    }
  },
  "cells": [
    {
      "cell_type": "markdown",
      "metadata": {
        "id": "view-in-github",
        "colab_type": "text"
      },
      "source": [
        "<a href=\"https://colab.research.google.com/github/KEHSANN/hosh_masnoi/blob/main/Q4_MID.ipynb\" target=\"_parent\"><img src=\"https://colab.research.google.com/assets/colab-badge.svg\" alt=\"Open In Colab\"/></a>"
      ]
    },
    {
      "cell_type": "code",
      "execution_count": 1,
      "metadata": {
        "colab": {
          "base_uri": "https://localhost:8080/",
          "height": 140
        },
        "id": "noK6iGy4hRJO",
        "outputId": "9cfa30e4-656b-4728-ba41-15de5eb5dd6d"
      },
      "outputs": [
        {
          "output_type": "error",
          "ename": "SyntaxError",
          "evalue": "ignored",
          "traceback": [
            "\u001b[0;36m  File \u001b[0;32m\"<ipython-input-1-0b382cbdbe87>\"\u001b[0;36m, line \u001b[0;32m5\u001b[0m\n\u001b[0;31m    \"\"\"\u001b[0m\n\u001b[0m    ^\u001b[0m\n\u001b[0;31mSyntaxError\u001b[0m\u001b[0;31m:\u001b[0m unterminated triple-quoted string literal (detected at line 40)\n"
          ]
        }
      ],
      "source": [
        "import random\n",
        "\n",
        "def generate_random_points(n):\n",
        "\n",
        "\n",
        "  points = []\n",
        "  for i in range(n):\n",
        "    x = random.uniform(-2, 2)\n",
        "    y = random.uniform(-2, 2)\n",
        "    points.append((x, y))\n",
        "  return points\n",
        "\n",
        "def main():\n",
        "  points = generate_random_points(1000)\n",
        "\n",
        "  # شبکه را به صورت دستی طراحی کنید.\n",
        "  # در این مثال، از دو نورون McCulloch-Pitts استفاده می کنیم.\n",
        "\n",
        "  neuron_1 = McCullochPittsNeuron(2)\n",
        "  neuron_2 = McCullochPittsNeuron(3)\n",
        "\n",
        "  # نقاط تصادفی را به شبکه وارد کنید و خروجی را ذخیره کنید.\n",
        "\n",
        "  outputs = []\n",
        "  for point in points:\n",
        "    x, y = point\n",
        "    output_1 = neuron_1.activate((x, y))\n",
        "    output_2 = neuron_2.activate((x, y, 1))\n",
        "    output = 1 if output_1 and output_2 else 0\n",
        "    outputs.append(output)\n",
        "\n",
        "  # خروجی را به صورت گرافیکی نمایش دهید.\n",
        "\n",
        "  plt.scatter(points, outputs, c=outputs)\n",
        "  plt.xlabel(\"x\")\n",
        "  plt.ylabel(\"y\")\n",
        "  plt.show()\n",
        "\n",
        "  main()"
      ]
    }
  ]
}